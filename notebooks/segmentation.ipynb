{
 "cells": [
  {
   "cell_type": "markdown",
   "metadata": {},
   "source": [
    "# Analyze data using the Orbit API\n",
    "\n",
    "This notebook shows how to analyze images using the Orbit API. A model has been generated and uploaded to the server."
   ]
  },
  {
   "cell_type": "markdown",
   "metadata": {},
   "source": [
    "### Description\n",
    "\n",
    "The following section shows:\n",
    "  * how to connect to OMERO from Orbit.\n",
    "  * how to retrieve an Orbit model already saved in OMERO.\n",
    "  * how to segment an Image.\n",
    "  * how to save the generated Regions of Interest (ROI)."
   ]
  },
  {
   "cell_type": "markdown",
   "metadata": {},
   "source": [
    "### Setup: Add Orbit to the Classpath"
   ]
  },
  {
   "cell_type": "code",
   "execution_count": 25,
   "metadata": {},
   "outputs": [],
   "source": [
    "%classpath add jar /srv/conda/orbit/lib/*"
   ]
  },
  {
   "cell_type": "markdown",
   "metadata": {},
   "source": [
    "## Enter credentials. Do not re-run this cell. "
   ]
  },
  {
   "cell_type": "code",
   "execution_count": 26,
   "metadata": {},
   "outputs": [
    {
     "data": {
      "application/vnd.jupyter.widget-view+json": {
       "model_id": "03707658-807f-4afd-a6df-143ab7200494",
       "version_major": 2,
       "version_minor": 0
      },
      "method": "display_data"
     },
     "metadata": {},
     "output_type": "display_data"
    }
   ],
   "source": [
    "g = new EasyForm(\"Enter credentials and continue to the next cell. Do not re-run this cell\")\n",
    "g.addTextField(\"Server\").onInit({g['Server'] = \"wss://outreach.openmicroscopy.org/omero-ws\"})\n",
    "g.addTextField(\"UserName\")\n",
    "g.addPasswordField(\"Password\")\n",
    "g"
   ]
  },
  {
   "cell_type": "markdown",
   "metadata": {},
   "source": [
    "## Collect the credentials and Connect to OMERO"
   ]
  },
  {
   "cell_type": "code",
   "execution_count": 27,
   "metadata": {},
   "outputs": [
    {
     "name": "stdout",
     "output_type": "stream",
     "text": [
      "Connected \n"
     ]
    },
    {
     "data": {
      "text/plain": [
       "null"
      ]
     },
     "execution_count": 27,
     "metadata": {},
     "output_type": "execute_result"
    }
   ],
   "source": [
    "import com.actelion.research.orbit.imageprovider.ImageProviderOmero\n",
    "import com.actelion.research.orbit.imageprovider.OmeroConf\n",
    "import com.actelion.research.orbit.imageAnalysis.dal.DALConfig\n",
    "\n",
    "String hostName = g['Server']\n",
    "String userName = g['UserName']\n",
    "String password = g['Password']\n",
    "\n",
    "OmeroConf conf = new OmeroConf(hostName, 443, true)\n",
    "conf.setUseWebSockets(true)\n",
    "imageProvider = new ImageProviderOmero(conf)\n",
    "\n",
    "imageProvider.authenticateUser(userName, password)\n",
    "\n",
    "//Set the provider\n",
    "DALConfig.setImageProvider(imageProvider)\n",
    "\n",
    "println(\"Connected \")"
   ]
  },
  {
   "cell_type": "markdown",
   "metadata": {},
   "source": [
    "## Select the Image. Do not re-run this cell."
   ]
  },
  {
   "cell_type": "code",
   "execution_count": 4,
   "metadata": {},
   "outputs": [
    {
     "data": {
      "application/vnd.jupyter.widget-view+json": {
       "model_id": "d442d406-2f3e-478b-b9db-d1f2bed72f45",
       "version_major": 2,
       "version_minor": 0
      },
      "method": "display_data"
     },
     "metadata": {},
     "output_type": "display_data"
    }
   ],
   "source": [
    "ga = new EasyForm(\"Select the Image to analyze\")\n",
    "ga.addTextField(\"ImageID\")\n",
    "ga"
   ]
  },
  {
   "cell_type": "code",
   "execution_count": 28,
   "metadata": {},
   "outputs": [
    {
     "data": {
      "text/plain": [
       "10001"
      ]
     },
     "execution_count": 28,
     "metadata": {},
     "output_type": "execute_result"
    }
   ],
   "source": [
    "omeroImageId = ga['ImageID'].toLong()"
   ]
  },
  {
   "cell_type": "markdown",
   "metadata": {},
   "source": [
    "## Load the Image from the OMERO server\n",
    "\n",
    "Load the image so we can get information like size."
   ]
  },
  {
   "cell_type": "code",
   "execution_count": 29,
   "metadata": {},
   "outputs": [
    {
     "data": {
      "text/plain": [
       "omero.gateway.model.ImageData (id=10001)"
      ]
     },
     "execution_count": 29,
     "metadata": {},
     "output_type": "execute_result"
    }
   ],
   "source": [
    "import omero.gateway.Gateway\n",
    "import omero.gateway.SecurityContext\n",
    "import omero.gateway.facility.BrowseFacility\n",
    "\n",
    "Gateway gateway = imageProvider.getGatewayAndCtx().getGateway()\n",
    "SecurityContext ctx = imageProvider.getGatewayAndCtx().getCtx()\n",
    "\n",
    "browse = gateway.getFacility(BrowseFacility)\n",
    "\n",
    "image = browse.getImage(ctx, omeroImageId)"
   ]
  },
  {
   "cell_type": "markdown",
   "metadata": {},
   "source": [
    "## Load the Orbit model\n",
    "\n",
    "We use the most recent model added. Only the models owned by the currently logged in user are loaded."
   ]
  },
  {
   "cell_type": "code",
   "execution_count": 31,
   "metadata": {},
   "outputs": [
    {
     "name": "stdout",
     "output_type": "stream",
     "text": [
      "Found 2 files\n",
      "Loaded Model: orbit3.63-img_10001 [svs]\n"
     ]
    },
    {
     "data": {
      "text/plain": [
       "null"
      ]
     },
     "execution_count": 31,
     "metadata": {},
     "output_type": "execute_result"
    }
   ],
   "source": [
    "import java.util.List\n",
    "import com.actelion.research.orbit.beans.RawAnnotation\n",
    "import com.actelion.research.orbit.imageAnalysis.models.OrbitModel\n",
    "\n",
    "// Load Models that I own. OMERO annotations of type: Model\n",
    "imageProvider.setOnlyOwnerObjects(true)\n",
    "List<RawAnnotation> annotations = imageProvider.LoadRawAnnotationsByType(RawAnnotation.ANNOTATION_TYPE_MODEL)\n",
    "println(\"Found \" + annotations.size() + \" files\")\n",
    "//Use the latest uploaded model\n",
    "int fileAnnId = 0\n",
    "for (RawAnnotation ra : annotations) {\n",
    "    id = ra.getRawAnnotationId()\n",
    "    if (id > fileAnnId) {\n",
    "        fileAnnId = id\n",
    "    }\n",
    "}\n",
    "model = OrbitModel.LoadFromOrbit(fileAnnId)\n",
    "println(\"Loaded Model: \" + model.getName())"
   ]
  },
  {
   "cell_type": "markdown",
   "metadata": {},
   "source": [
    "## Segment the selected image.\n",
    "\n",
    "We analyze a 500x500 square around the center of the image."
   ]
  },
  {
   "cell_type": "code",
   "execution_count": 36,
   "metadata": {},
   "outputs": [
    {
     "data": {
      "text/plain": [
       "com.actelion.research.orbit.imageAnalysis.models.RectangleExt[x=48249,y=22583,width=500,height=500]"
      ]
     },
     "execution_count": 36,
     "metadata": {},
     "output_type": "execute_result"
    }
   ],
   "source": [
    "import com.actelion.research.orbit.imageAnalysis.models.RectangleExt\n",
    "\n",
    "pixels = image.getDefaultPixels()\n",
    "w = 250\n",
    "h = 250\n",
    "cx = (int) (pixels.getSizeX()/2)\n",
    "cy = (int) (pixels.getSizeY()/2)\n",
    "region = new RectangleExt(cx-w, cy-w, 2*w, 2*h)"
   ]
  },
  {
   "cell_type": "code",
   "execution_count": 37,
   "metadata": {},
   "outputs": [
    {
     "name": "stdout",
     "output_type": "stream",
     "text": [
      "ending: svs [series 1]  format: SVS\n",
      "type: \n",
      "ending: svs [series 1]  format: SVS\n",
      "type: \n",
      "TaskResult:\n",
      "Number of objects: 228\n"
     ]
    },
    {
     "data": {
      "text/plain": [
       "com.actelion.research.orbit.imageAnalysis.models.SegmentationResult@46d448a4"
      ]
     },
     "execution_count": 37,
     "metadata": {},
     "output_type": "execute_result"
    }
   ],
   "source": [
    "import com.actelion.research.orbit.imageAnalysis.models.SegmentationResult\n",
    "import com.actelion.research.orbit.imageAnalysis.utils.OrbitHelper\n",
    "import com.actelion.research.orbit.beans.RawDataFile\n",
    "import com.actelion.research.orbit.imageAnalysis.components.RecognitionFrame\n",
    "\n",
    "\n",
    "// Perform the segmentation\n",
    "RawDataFile rdf = imageProvider.LoadRawDataFile((int) omeroImageId)\n",
    "RecognitionFrame rf = new RecognitionFrame(rdf, false)\n",
    "result = OrbitHelper.Segmentation(rf, (int) omeroImageId, model, null, 1, true, region)"
   ]
  },
  {
   "cell_type": "markdown",
   "metadata": {},
   "source": [
    "## Save the ROIs back to OMERO\n",
    "\n",
    "We retrieve the security context from the ``imageProvider``."
   ]
  },
  {
   "cell_type": "code",
   "execution_count": 38,
   "metadata": {},
   "outputs": [
    {
     "data": {
      "text/plain": [
       "[omero.model.RoiI@1ed9247f, omero.model.RoiI@7a2cce68, omero.model.RoiI@657e4a2b, omero.model.RoiI@213f20b5, omero.model.RoiI@76920231, omero.model.RoiI@6a51dd05, omero.model.RoiI@7d69fd76, omero.model.RoiI@258b50e6, omero.model.RoiI@43ee5dec, omero.model.RoiI@27330961, omero.model.RoiI@1503d2bc, omero.model.RoiI@6a70bc9a, omero.model.RoiI@5bc08d05, omero.model.RoiI@6487ef1d, omero.model.RoiI@6f1a5703, omero.model.RoiI@61b216, omero.model.RoiI@5f16bfba, omero.model.RoiI@4325c42, omero.model.RoiI@39adb188, omero.model.RoiI@345145a9, omero.model.RoiI@5ed0c7f6, omero.model.RoiI@48965022, omero.model.RoiI@1ce39949, omero.model.RoiI@2221fb71, omero.model.RoiI@7a1667b4, omero.model.RoiI@7b2f94, omero.model.RoiI@d2c703, omero.model.RoiI@2d054e1b, omero.model.RoiI@6467a7c8, omero.model.RoiI@3d39235f, omero.model.RoiI@2b451124, omero.model.RoiI@2c37e7c1, omero.model.RoiI@75374c68, omero.model.RoiI@1e0aa4a, omero.model.RoiI@2af5763, omero.model.RoiI@11b5a118, omero.model.RoiI@5eaeeb4a, omero.model.RoiI@5a18b82f, omero.model.RoiI@22f4f840, omero.model.RoiI@1e752067, omero.model.RoiI@37286c58, omero.model.RoiI@28ee6352, omero.model.RoiI@2d5db8f7, omero.model.RoiI@1a9cd323, omero.model.RoiI@6e222684, omero.model.RoiI@350d2ce1, omero.model.RoiI@7557a0b7, omero.model.RoiI@92e60f5, omero.model.RoiI@76477152, omero.model.RoiI@2af1315f, omero.model.RoiI@626b6eae, omero.model.RoiI@183883de, omero.model.RoiI@55b8ac6a, omero.model.RoiI@76e0144b, omero.model.RoiI@4fc71a27, omero.model.RoiI@133d4672, omero.model.RoiI@3767383, omero.model.RoiI@75427dea, omero.model.RoiI@2234747, omero.model.RoiI@7b549fa7, omero.model.RoiI@4b0e1125, omero.model.RoiI@2dc58883, omero.model.RoiI@35c4fb03, omero.model.RoiI@6ab2e3bb, omero.model.RoiI@518e50f1, omero.model.RoiI@508e5bd3, omero.model.RoiI@4200ae22, omero.model.RoiI@3f5222e2, omero.model.RoiI@1cf8f421, omero.model.RoiI@3e8a74ae, omero.model.RoiI@793cace3, omero.model.RoiI@57d7d414, omero.model.RoiI@cd56b33, omero.model.RoiI@61175103, omero.model.RoiI@7dd0b276, omero.model.RoiI@14ceaeac, omero.model.RoiI@3365c3f5, omero.model.RoiI@682103d3, omero.model.RoiI@101a4fa3, omero.model.RoiI@714038c2, omero.model.RoiI@6ca73774, omero.model.RoiI@cf89ea8, omero.model.RoiI@4e5dafc3, omero.model.RoiI@3e2b18e2, omero.model.RoiI@6b6294c4, omero.model.RoiI@23a74ade, omero.model.RoiI@a7cade, omero.model.RoiI@662d3e20, omero.model.RoiI@19965295, omero.model.RoiI@fe0ac3, omero.model.RoiI@3eb1c138, omero.model.RoiI@31e234f0, omero.model.RoiI@1acbcaa3, omero.model.RoiI@6a93732b, omero.model.RoiI@5a1bd740, omero.model.RoiI@7a7e3d47, omero.model.RoiI@3ea46e79, omero.model.RoiI@4fdf58ad, omero.model.RoiI@4b7a37c1, omero.model.RoiI@40e5bfec, omero.model.RoiI@5dafd62f, omero.model.RoiI@6880f707, omero.model.RoiI@725e01e9, omero.model.RoiI@1fa9ca91, omero.model.RoiI@3c9469e5, omero.model.RoiI@53c389bf, omero.model.RoiI@51108b67, omero.model.RoiI@3c3e96, omero.model.RoiI@1ff8b435, omero.model.RoiI@50b95804, omero.model.RoiI@527aac7, omero.model.RoiI@648efc7b, omero.model.RoiI@3e8da5c3, omero.model.RoiI@246eb36e, omero.model.RoiI@1ca754b6, omero.model.RoiI@f590e7d, omero.model.RoiI@5c2911e8, omero.model.RoiI@d8d3cc0, omero.model.RoiI@2b29cb23, omero.model.RoiI@6cc402dd, omero.model.RoiI@78f6e8fc, omero.model.RoiI@1c79b01e, omero.model.RoiI@796c0061, omero.model.RoiI@3572277b, omero.model.RoiI@7a0c9821, omero.model.RoiI@2ba43e3e, omero.model.RoiI@32524c23, omero.model.RoiI@16bffced, omero.model.RoiI@8ecb38b, omero.model.RoiI@2332966, omero.model.RoiI@22a05e57, omero.model.RoiI@4b91967a, omero.model.RoiI@268c0468, omero.model.RoiI@3def61c6, omero.model.RoiI@1d9dd2ca, omero.model.RoiI@5a78b545, omero.model.RoiI@1c914526, omero.model.RoiI@5a36e623, omero.model.RoiI@29ce742d, omero.model.RoiI@36033ecc, omero.model.RoiI@20adf55f, omero.model.RoiI@4dc70897, omero.model.RoiI@17f2721e, omero.model.RoiI@3828db72, omero.model.RoiI@7760d625, omero.model.RoiI@296ebee, omero.model.RoiI@6700b20, omero.model.RoiI@78fda3d7, omero.model.RoiI@95d9313, omero.model.RoiI@3c21d04d, omero.model.RoiI@3a0ef5e2, omero.model.RoiI@2ff80a6f, omero.model.RoiI@4a58c188, omero.model.RoiI@78c9d336, omero.model.RoiI@35259828, omero.model.RoiI@5a614791, omero.model.RoiI@56b989d4, omero.model.RoiI@60dfb056, omero.model.RoiI@792280bd, omero.model.RoiI@29af1dc7, omero.model.RoiI@33c2d60f, omero.model.RoiI@2e028d21, omero.model.RoiI@4348d734, omero.model.RoiI@12d8abbf, omero.model.RoiI@378f7545, omero.model.RoiI@d5e9d10, omero.model.RoiI@82a0af8, omero.model.RoiI@5f78dd11, omero.model.RoiI@1311bee6, omero.model.RoiI@6ade0789, omero.model.RoiI@32fbade0, omero.model.RoiI@2b727efb, omero.model.RoiI@358a03fd, omero.model.RoiI@2f72b88a, omero.model.RoiI@40899429, omero.model.RoiI@7834af65, omero.model.RoiI@1d44ce75, omero.model.RoiI@27c893bf, omero.model.RoiI@2b6c63b3, omero.model.RoiI@767ebe3c, omero.model.RoiI@4d72f1e0, omero.model.RoiI@2e44d69a, omero.model.RoiI@66fd491a, omero.model.RoiI@657194a7, omero.model.RoiI@3fd69418, omero.model.RoiI@37ae657e, omero.model.RoiI@3b975f08, omero.model.RoiI@52aa2071, omero.model.RoiI@59571868, omero.model.RoiI@1d1603a9, omero.model.RoiI@1cf8601c, omero.model.RoiI@1fd2625a, omero.model.RoiI@7ea7bd90, omero.model.RoiI@5381f2a6, omero.model.RoiI@ca6804a, omero.model.RoiI@6ae336, omero.model.RoiI@43628596, omero.model.RoiI@1f2a4b9e, omero.model.RoiI@27362ce1, omero.model.RoiI@70920862, omero.model.RoiI@270b6dd3, omero.model.RoiI@6ab0a417, omero.model.RoiI@7c77cc84, omero.model.RoiI@1cc60a70, omero.model.RoiI@60df99ce, omero.model.RoiI@f2019de, omero.model.RoiI@4df1e752, omero.model.RoiI@6148e116, omero.model.RoiI@7dc50518, omero.model.RoiI@72240d97, omero.model.RoiI@30adbff6, omero.model.RoiI@164ba8a4, omero.model.RoiI@43f392b0, omero.model.RoiI@11e977ec, omero.model.RoiI@4ce63828, omero.model.RoiI@723a798, omero.model.RoiI@581ad3de, omero.model.RoiI@2969926, omero.model.RoiI@7f4cd624, omero.model.RoiI@6549a132, omero.model.RoiI@6b430a66, omero.model.RoiI@5d2ae181, omero.model.RoiI@44cef1f6, omero.model.RoiI@6ca6986c, omero.model.RoiI@1f45afa4, omero.model.RoiI@15e96324, omero.model.RoiI@261b712e, omero.model.RoiI@7ea6e879]"
      ]
     },
     "execution_count": 38,
     "metadata": {},
     "output_type": "execute_result"
    }
   ],
   "source": [
    "import java.util.ArrayList\n",
    "import java.util.List\n",
    "import omero.gateway.Gateway\n",
    "import omero.gateway.SecurityContext\n",
    "\n",
    "import java.awt.Shape\n",
    "\n",
    "import omero.model.ImageI\n",
    "import omero.model.PolygonI\n",
    "import omero.model.RoiI\n",
    "\n",
    "import static omero.rtypes.rstring\n",
    "import static omero.rtypes.rint\n",
    "import omero.gateway.facility.BrowseFacility\n",
    "import omero.gateway.facility.DataManagerFacility\n",
    "\n",
    "// Retrieve the security context\n",
    "Gateway gateway = imageProvider.getGatewayAndCtx().getGateway()\n",
    "SecurityContext ctx = imageProvider.getGatewayAndCtx().getCtx()\n",
    "\n",
    "// Save the shapes\n",
    "List<RoiI> roisToSave = new ArrayList<RoiI>()\n",
    "for (Shape shape: result.shapeList) {\n",
    "    // can cast shape to Polygon or simply listPoints\n",
    "    String points = shape.listPoints()\n",
    "\n",
    "    // Create Polygon in OMERO\n",
    "    p = new PolygonI()\n",
    "    // Convert \"x, y; x, y\" format to \"x, y, x, y\" for OMERO\n",
    "    points = points.replace(\";\", \",\")\n",
    "    p.setPoints(rstring(points))\n",
    "    p.setTheT(rint(0))\n",
    "    p.setTheZ(rint(0))\n",
    "    p.setStrokeColor(rint(-65281))   // yellow\n",
    "\n",
    "    // Add each shape to an ROI on the Image\n",
    "    ImageI image = new ImageI(omeroImageId, false)\n",
    "    RoiI roi = new RoiI()\n",
    "    roi.setImage(image)\n",
    "    roi.addShape(p)\n",
    "    roisToSave.add(roi)\n",
    "\n",
    "}\n",
    "gateway.getUpdateService(ctx).saveAndReturnArray(roisToSave)"
   ]
  },
  {
   "cell_type": "markdown",
   "metadata": {},
   "source": [
    "## Close the connection"
   ]
  },
  {
   "cell_type": "code",
   "execution_count": 39,
   "metadata": {},
   "outputs": [
    {
     "data": {
      "text/plain": [
       "null"
      ]
     },
     "execution_count": 39,
     "metadata": {},
     "output_type": "execute_result"
    }
   ],
   "source": [
    "imageProvider.close()"
   ]
  },
  {
   "cell_type": "markdown",
   "metadata": {},
   "source": [
    "### License (BSD 2-Clause)\n",
    "Copyright (C) 2019-2020 University of Dundee. All Rights Reserved.\n",
    "\n",
    "Redistribution and use in source and binary forms, with or without modification, are permitted provided that the following conditions are met:\n",
    "\n",
    "Redistributions of source code must retain the above copyright notice, this list of conditions and the following disclaimer.\n",
    "Redistributions in binary form must reproduce the above copyright notice, this list of conditions and the following disclaimer in the documentation and/or other materials provided with the distribution.\n",
    "THIS SOFTWARE IS PROVIDED BY THE COPYRIGHT HOLDERS AND CONTRIBUTORS \"AS IS\" AND ANY EXPRESS OR IMPLIED WARRANTIES, INCLUDING, BUT NOT LIMITED TO, THE IMPLIED WARRANTIES OF MERCHANTABILITY AND FITNESS FOR A PARTICULAR PURPOSE ARE DISCLAIMED. IN NO EVENT SHALL THE COPYRIGHT OWNER OR CONTRIBUTORS BE LIABLE FOR ANY DIRECT, INDIRECT, INCIDENTAL, SPECIAL, EXEMPLARY, OR CONSEQUENTIAL DAMAGES (INCLUDING, BUT NOT LIMITED TO, PROCUREMENT OF SUBSTITUTE GOODS OR SERVICES; LOSS OF USE, DATA, OR PROFITS; OR BUSINESS INTERRUPTION) HOWEVER CAUSED AND ON ANY THEORY OF LIABILITY, WHETHER IN CONTRACT, STRICT LIABILITY, OR TORT (INCLUDING NEGLIGENCE OR OTHERWISE) ARISING IN ANY WAY OUT OF THE USE OF THIS SOFTWARE, EVEN IF ADVISED OF THE POSSIBILITY OF SUCH DAMAGE."
   ]
  }
 ],
 "metadata": {
  "kernelspec": {
   "display_name": "Groovy",
   "language": "groovy",
   "name": "groovy"
  },
  "language_info": {
   "codemirror_mode": "groovy",
   "file_extension": ".groovy",
   "mimetype": "",
   "name": "Groovy",
   "nbconverter_exporter": "",
   "version": "2.5.6"
  },
  "toc": {
   "base_numbering": 1,
   "nav_menu": {},
   "number_sections": false,
   "sideBar": false,
   "skip_h1_title": false,
   "title_cell": "Table of Contents",
   "title_sidebar": "Contents",
   "toc_cell": false,
   "toc_position": {},
   "toc_section_display": false,
   "toc_window_display": false
  }
 },
 "nbformat": 4,
 "nbformat_minor": 2
}

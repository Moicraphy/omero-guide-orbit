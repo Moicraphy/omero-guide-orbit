{
 "cells": [
  {
   "cell_type": "markdown",
   "metadata": {},
   "source": [
    "# Analyze data using the Orbit API\n",
    "\n",
    "This notebook shows how to analyze images using the Orbit API. A model has been generated and uploaded to the server."
   ]
  },
  {
   "cell_type": "markdown",
   "metadata": {},
   "source": [
    "### Description\n",
    "\n",
    "The following section shows:\n",
    "  * how to connect to OMERO from Orbit.\n",
    "  * how to retrieve an Orbit model already saved in OMERO.\n",
    "  * how to segment an Image.\n",
    "  * how to save the generated Regions of Interest (ROI)."
   ]
  },
  {
   "cell_type": "markdown",
   "metadata": {},
   "source": [
    "### Setup: Add Orbit to the Classpath"
   ]
  },
  {
   "cell_type": "code",
   "execution_count": 2,
   "metadata": {},
   "outputs": [],
   "source": [
    "%classpath add jar /srv/conda/orbit/lib/*"
   ]
  },
  {
   "cell_type": "markdown",
   "metadata": {},
   "source": [
    "## Enter credentials. Do not re-run this cell. "
   ]
  },
  {
   "cell_type": "code",
   "execution_count": 3,
   "metadata": {},
   "outputs": [
    {
     "data": {
      "application/vnd.jupyter.widget-view+json": {
       "model_id": "7a788a8c-7c50-4962-95ed-2a51920663dc",
       "version_major": 2,
       "version_minor": 0
      },
      "method": "display_data"
     },
     "metadata": {},
     "output_type": "display_data"
    }
   ],
   "source": [
    "g = new EasyForm(\"Enter credentials and continue to the next cell. Do not re-run this cell\")\n",
    "g.addTextField(\"Server\").onInit({g['Server'] = \"workshop.openmicroscopy.org\"})\n",
    "g.addTextField(\"UserName\")\n",
    "g.addPasswordField(\"Password\")\n",
    "g"
   ]
  },
  {
   "cell_type": "markdown",
   "metadata": {},
   "source": [
    "## Collect the credentials and Connect to OMERO"
   ]
  },
  {
   "cell_type": "code",
   "execution_count": 12,
   "metadata": {},
   "outputs": [
    {
     "name": "stdout",
     "output_type": "stream",
     "text": [
      "Connected \n"
     ]
    },
    {
     "data": {
      "text/plain": [
       "com.actelion.research.orbit.imageprovider.ImageProviderOmero@1e9f9cfc"
      ]
     },
     "execution_count": 12,
     "metadata": {},
     "output_type": "execute_result"
    }
   ],
   "source": [
    "import com.actelion.research.orbit.imageprovider.ImageProviderOmero\n",
    "import com.actelion.research.orbit.imageprovider.OmeroConf\n",
    "import com.actelion.research.orbit.imageAnalysis.dal.DALConfig\n",
    "\n",
    "String hostName = g['Server']\n",
    "String userName = g['UserName']\n",
    "String password = g['Password']\n",
    "\n",
    "imageProvider = new ImageProviderOmero(new OmeroConf(hostName, 4064, true))\n",
    "\n",
    "imageProvider.authenticateUser(userName, password)\n",
    "\n",
    "//Set the provider\n",
    "DALConfig.setImageProvider(imageProvider)\n",
    "\n",
    "println(\"Connected \")"
   ]
  },
  {
   "cell_type": "markdown",
   "metadata": {},
   "source": [
    "## Select the Image. Do not re-run this cell."
   ]
  },
  {
   "cell_type": "code",
   "execution_count": 13,
   "metadata": {},
   "outputs": [
    {
     "data": {
      "application/vnd.jupyter.widget-view+json": {
       "model_id": "4c38be3f-652c-4c16-94b9-286eb4b5b8d1",
       "version_major": 2,
       "version_minor": 0
      },
      "method": "display_data"
     },
     "metadata": {},
     "output_type": "display_data"
    }
   ],
   "source": [
    "ga = new EasyForm(\"Select the Image to analyze\")\n",
    "ga.addTextField(\"ImageID\")\n",
    "ga"
   ]
  },
  {
   "cell_type": "code",
   "execution_count": 18,
   "metadata": {},
   "outputs": [
    {
     "data": {
      "text/plain": [
       "10001"
      ]
     },
     "execution_count": 18,
     "metadata": {},
     "output_type": "execute_result"
    }
   ],
   "source": [
    "omeroImageId = ga['ImageID'].toLong()"
   ]
  },
  {
   "cell_type": "markdown",
   "metadata": {},
   "source": [
    "## Load the Orbit model\n",
    "\n",
    "We use the most recent model added. Only the models owned by the currently logged in user are loaded."
   ]
  },
  {
   "cell_type": "code",
   "execution_count": 16,
   "metadata": {},
   "outputs": [
    {
     "name": "stdout",
     "output_type": "stream",
     "text": [
      "Found 2 files\n",
      "Loaded Model: orbit3.63-img_10001 [svs]\n"
     ]
    },
    {
     "data": {
      "text/plain": [
       "null"
      ]
     },
     "execution_count": 16,
     "metadata": {},
     "output_type": "execute_result"
    }
   ],
   "source": [
    "import java.util.List\n",
    "import com.actelion.research.orbit.beans.RawAnnotation\n",
    "import com.actelion.research.orbit.imageAnalysis.models.OrbitModel\n",
    "\n",
    "// Load Models that I own. OMERO annotations of type: Model\n",
    "imageProvider.setOnlyOwnerObjects(true)\n",
    "List<RawAnnotation> annotations = imageProvider.LoadRawAnnotationsByType(RawAnnotation.ANNOTATION_TYPE_MODEL)\n",
    "println(\"Found \" + annotations.size() + \" files\")\n",
    "//Use the latest uploaded model\n",
    "int fileAnnId = 0\n",
    "for (RawAnnotation ra : annotations) {\n",
    "    id = ra.getRawAnnotationId()\n",
    "    if (id > fileAnnId) {\n",
    "        fileAnnId = id\n",
    "    }\n",
    "}\n",
    "model = OrbitModel.LoadFromOrbit(fileAnnId)\n",
    "println(\"Loaded Model: \" + model.getName())"
   ]
  },
  {
   "cell_type": "markdown",
   "metadata": {},
   "source": [
    "## Segment the selected image "
   ]
  },
  {
   "cell_type": "code",
   "execution_count": null,
   "metadata": {},
   "outputs": [
    {
     "name": "stdout",
     "output_type": "stream",
     "text": [
      "ending: svs [series 1]  format: SVS\n",
      "type: \n",
      "ending: svs [series 1]  format: SVS\n",
      "type: \n",
      "ending: svs [series 1]  format: SVS\n",
      "type: \n"
     ]
    }
   ],
   "source": [
    "import com.actelion.research.orbit.imageAnalysis.models.SegmentationResult\n",
    "import com.actelion.research.orbit.imageAnalysis.utils.OrbitHelper\n",
    "\n",
    "// Perform the segmentation\n",
    "result = OrbitHelper.Segmentation((int) omeroImageId, model, null, 1)"
   ]
  },
  {
   "cell_type": "markdown",
   "metadata": {},
   "source": [
    "## Save the ROIs back to OMERO\n",
    "\n",
    "We retrieve the security context from the ``imageProvider``."
   ]
  },
  {
   "cell_type": "code",
   "execution_count": null,
   "metadata": {},
   "outputs": [],
   "source": [
    "import java.util.ArrayList\n",
    "import java.util.List\n",
    "import omero.gateway.Gateway\n",
    "import omero.gateway.SecurityContext\n",
    "\n",
    "import java.awt.Shape\n",
    "\n",
    "import omero.model.ImageI\n",
    "import omero.model.PolygonI\n",
    "import omero.model.RoiI\n",
    "\n",
    "import static omero.rtypes.rstring\n",
    "import static omero.rtypes.rint\n",
    "import omero.gateway.facility.BrowseFacility\n",
    "import omero.gateway.facility.DataManagerFacility\n",
    "\n",
    "// Retrieve the security context\n",
    "Gateway gateway = imageProvider.getGatewayAndCtx().getGateway()\n",
    "SecurityContext ctx = imageProvider.getGatewayAndCtx().getCtx()\n",
    "\n",
    "// Save the shapes\n",
    "List<RoiI> roisToSave = new ArrayList<RoiI>()"
    "for (Shape shape: result.shapeList) {\n",
    "    // can cast shape to Polygon or simply listPoints\n",
    "    String points = shape.listPoints()\n",
    "\n",
    "    // Create Polygon in OMERO\n",
    "    p = new PolygonI()\n",
    "    // Convert \"x, y; x, y\" format to \"x, y, x, y\" for OMERO\n",
    "    points = points.replace(\";\", \",\")\n",
    "    p.setPoints(rstring(points))\n",
    "    p.setTheT(rint(0))\n",
    "    p.setTheZ(rint(0))\n",
    "    p.setStrokeColor(rint(-65281))   // yellow\n",
    "\n",
    "    // Add each shape to an ROI on the Image\n",
    "    ImageI image = new ImageI(omeroImageId, false)\n",
    "    RoiI roi = new RoiI()\n",
    "    roi.setImage(image)\n",
    "    roi.addShape(p)\n",
    "    roisToSave.add(roi)\n",
    "\n",
    "}\n",
    "gateway.getUpdateService(ctx).saveAndReturnObject(roisToSave)\n",
   ]
  },
  {
   "cell_type": "markdown",
   "metadata": {},
   "source": [
    "## Close the connection"
   ]
  },
  {
   "cell_type": "code",
   "execution_count": null,
   "metadata": {},
   "outputs": [],
   "source": [
    "imageProvider.close()"
   ]
  }
 ],
 "metadata": {
  "kernelspec": {
   "display_name": "Groovy",
   "language": "groovy",
   "name": "groovy"
  },
  "language_info": {
   "codemirror_mode": "groovy",
   "file_extension": ".groovy",
   "mimetype": "",
   "name": "Groovy",
   "nbconverter_exporter": "",
   "version": "2.5.6"
  },
  "toc": {
   "base_numbering": 1,
   "nav_menu": {},
   "number_sections": false,
   "sideBar": false,
   "skip_h1_title": false,
   "title_cell": "Table of Contents",
   "title_sidebar": "Contents",
   "toc_cell": false,
   "toc_position": {},
   "toc_section_display": false,
   "toc_window_display": false
  }
 },
 "nbformat": 4,
 "nbformat_minor": 2
}

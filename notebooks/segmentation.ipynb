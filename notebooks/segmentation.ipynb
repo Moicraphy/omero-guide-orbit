{
 "cells": [
  {
   "cell_type": "markdown",
   "metadata": {},
   "source": [
    "# Analyze data using the Orbit API\n",
    "\n",
    "This notebook shows how to analyze images using the Orbit API. A model has been generated and uploaded to the server."
   ]
  },
  {
   "cell_type": "markdown",
   "metadata": {},
   "source": [
    "### Description\n",
    "\n",
    "The following section shows:\n",
    "  * how to connect to OMERO from Orbit.\n",
    "  * how to retrieve an Orbit model already saved in OMERO.\n",
    "  * how to segment an Image.\n",
    "  * how to save the generated Regions of Interest (ROI)."
   ]
  },
  {
   "cell_type": "markdown",
   "metadata": {},
   "source": [
    "### Setup: Add Orbit to the Classpath"
   ]
  },
  {
   "cell_type": "code",
   "execution_count": 1,
   "metadata": {},
   "outputs": [
    {
     "data": {
      "application/vnd.jupyter.widget-view+json": {
       "model_id": "81ed91d7-0741-41aa-9f20-56c71fc0fedc",
       "version_major": 2,
       "version_minor": 0
      },
      "method": "display_data"
     },
     "metadata": {},
     "output_type": "display_data"
    }
   ],
   "source": [
    "%classpath add jar /srv/conda/orbit/lib/*"
   ]
  },
  {
   "cell_type": "markdown",
   "metadata": {},
   "source": [
    "## Enter credentials. Do not re-run this cell. "
   ]
  },
  {
   "cell_type": "code",
   "execution_count": 2,
   "metadata": {},
   "outputs": [
    {
     "data": {
      "application/vnd.jupyter.widget-view+json": {
       "model_id": "2ae90191-a3b4-4ea2-8d12-67f5a4ca17e8",
       "version_major": 2,
       "version_minor": 0
      },
      "method": "display_data"
     },
     "metadata": {},
     "output_type": "display_data"
    }
   ],
   "source": [
    "g = new EasyForm(\"Enter credentials and continue to the next cell. Do not re-run this cell\")\n",
    "g.addTextField(\"Server\").onInit({g['Server'] = \"outreach.openmicroscopy.org\"})\n",
    "g.addTextField(\"UserName\")\n",
    "g.addPasswordField(\"Password\")\n",
    "g"
   ]
  },
  {
   "cell_type": "markdown",
   "metadata": {},
   "source": [
    "## Collect the credentials and Connect to OMERO"
   ]
  },
  {
   "cell_type": "code",
   "execution_count": 24,
   "metadata": {},
   "outputs": [
    {
     "name": "stdout",
     "output_type": "stream",
     "text": [
      "Connected \n"
     ]
    },
    {
     "data": {
      "text/plain": [
       "null"
      ]
     },
     "execution_count": 24,
     "metadata": {},
     "output_type": "execute_result"
    }
   ],
   "source": [
    "import com.actelion.research.orbit.imageprovider.ImageProviderOmero\n",
    "import com.actelion.research.orbit.imageprovider.OmeroConf\n",
    "import com.actelion.research.orbit.imageAnalysis.dal.DALConfig\n",
    "\n",
    "String hostName = g['Server']\n",
    "String userName = g['UserName']\n",
    "String password = g['Password']\n",
    "\n",
    "imageProvider = new ImageProviderOmero(new OmeroConf(hostName, 4064, true))\n",
    "\n",
    "imageProvider.authenticateUser(userName, password)\n",
    "\n",
    "//Set the provider\n",
    "DALConfig.setImageProvider(imageProvider)\n",
    "\n",
    "println(\"Connected \")"
   ]
  },
  {
   "cell_type": "markdown",
   "metadata": {},
   "source": [
    "## Select the Image. Do not re-run this cell."
   ]
  },
  {
   "cell_type": "code",
   "execution_count": 4,
   "metadata": {},
   "outputs": [
    {
     "data": {
      "application/vnd.jupyter.widget-view+json": {
       "model_id": "d442d406-2f3e-478b-b9db-d1f2bed72f45",
       "version_major": 2,
       "version_minor": 0
      },
      "method": "display_data"
     },
     "metadata": {},
     "output_type": "display_data"
    }
   ],
   "source": [
    "ga = new EasyForm(\"Select the Image to analyze\")\n",
    "ga.addTextField(\"ImageID\")\n",
    "ga"
   ]
  },
  {
   "cell_type": "code",
   "execution_count": 6,
   "metadata": {},
   "outputs": [
    {
     "data": {
      "text/plain": [
       "10001"
      ]
     },
     "execution_count": 6,
     "metadata": {},
     "output_type": "execute_result"
    }
   ],
   "source": [
    "omeroImageId = ga['ImageID'].toLong()"
   ]
  },
  {
   "cell_type": "markdown",
   "metadata": {},
   "source": [
    "## Load the Image from the OMERO server\n",
    "\n",
    "Load the image so we can get information like size."
   ]
  },
  {
   "cell_type": "code",
   "execution_count": 7,
   "metadata": {},
   "outputs": [
    {
     "data": {
      "text/plain": [
       "omero.gateway.model.ImageData (id=10001)"
      ]
     },
     "execution_count": 7,
     "metadata": {},
     "output_type": "execute_result"
    }
   ],
   "source": [
    "import omero.gateway.Gateway\n",
    "import omero.gateway.SecurityContext\n",
    "import omero.gateway.facility.BrowseFacility\n",
    "\n",
    "Gateway gateway = imageProvider.getGatewayAndCtx().getGateway()\n",
    "SecurityContext ctx = imageProvider.getGatewayAndCtx().getCtx()\n",
    "\n",
    "browse = gateway.getFacility(BrowseFacility)\n",
    "\n",
    "image = browse.getImage(ctx, omeroImageId)"
   ]
  },
  {
   "cell_type": "markdown",
   "metadata": {},
   "source": [
    "## Load the Orbit model\n",
    "\n",
    "We use the most recent model added. Only the models owned by the currently logged in user are loaded."
   ]
  },
  {
   "cell_type": "code",
   "execution_count": 21,
   "metadata": {},
   "outputs": [
    {
     "name": "stdout",
     "output_type": "stream",
     "text": [
      "Found 2 files\n",
      "Loaded Model: dundee-petr [svs]\n"
     ]
    },
    {
     "data": {
      "text/plain": [
       "null"
      ]
     },
     "execution_count": 21,
     "metadata": {},
     "output_type": "execute_result"
    }
   ],
   "source": [
    "import java.util.List\n",
    "import com.actelion.research.orbit.beans.RawAnnotation\n",
    "import com.actelion.research.orbit.imageAnalysis.models.OrbitModel\n",
    "\n",
    "// Load Models that I own. OMERO annotations of type: Model\n",
    "imageProvider.setOnlyOwnerObjects(true)\n",
    "List<RawAnnotation> annotations = imageProvider.LoadRawAnnotationsByType(RawAnnotation.ANNOTATION_TYPE_MODEL)\n",
    "println(\"Found \" + annotations.size() + \" files\")\n",
    "//Use the latest uploaded model\n",
    "int fileAnnId = 0\n",
    "for (RawAnnotation ra : annotations) {\n",
    "    id = ra.getRawAnnotationId()\n",
    "    if (id > fileAnnId) {\n",
    "        fileAnnId = id\n",
    "        break\n",
    "    }\n",
    "}\n",
    "model = OrbitModel.LoadFromOrbit(fileAnnId)\n",
    "println(\"Loaded Model: \" + model.getName())"
   ]
  },
  {
   "cell_type": "markdown",
   "metadata": {},
   "source": [
    "## Segment the selected image.\n",
    "\n",
    "We analyze a square around the center of the image."
   ]
  },
  {
   "cell_type": "code",
   "execution_count": 22,
   "metadata": {},
   "outputs": [
    {
     "data": {
      "text/plain": [
       "true"
      ]
     },
     "execution_count": 22,
     "metadata": {},
     "output_type": "execute_result"
    }
   ],
   "source": [
    "import java.util.ArrayList\n",
    "import java.util.List\n",
    "import java.awt.Point\n",
    "\n",
    "pixels = image.getDefaultPixels()\n",
    "w = 1000\n",
    "h = 1000\n",
    "cx = (int) (pixels.getSizeX()/2)\n",
    "cy = (int) (pixels.getSizeY()/2)\n",
    "tiles = new ArrayList<Point>()\n",
    "tiles.add(new Point(cx-w, cy-h))\n",
    "tiles.add(new Point(cx+w, cy-h))\n",
    "tiles.add(new Point(cx-w, cy+h))\n",
    "tiles.add(new Point(cx+w, cy+h))"
   ]
  },
  {
   "cell_type": "code",
   "execution_count": 23,
   "metadata": {},
   "outputs": [
    {
     "name": "stdout",
     "output_type": "stream",
     "text": [
      "ending: svs [series 1]  format: SVS\n",
      "type: \n",
      "ending: svs [series 1]  format: SVS\n",
      "type: \n",
      "TaskResult:\n",
      "Number of objects: 0\n"
     ]
    },
    {
     "data": {
      "text/plain": [
       "com.actelion.research.orbit.imageAnalysis.models.SegmentationResult@590701f2"
      ]
     },
     "execution_count": 23,
     "metadata": {},
     "output_type": "execute_result"
    }
   ],
   "source": [
    "import com.actelion.research.orbit.imageAnalysis.models.SegmentationResult\n",
    "import com.actelion.research.orbit.imageAnalysis.utils.OrbitHelper\n",
    "\n",
    "\n",
    "// Perform the segmentation\n",
    "result = OrbitHelper.Segmentation((int) omeroImageId, model, tiles, 1)"
   ]
  },
  {
   "cell_type": "markdown",
   "metadata": {},
   "source": [
    "## Save the ROIs back to OMERO\n",
    "\n",
    "We retrieve the security context from the ``imageProvider``."
   ]
  },
  {
   "cell_type": "code",
   "execution_count": 16,
   "metadata": {},
   "outputs": [
    {
     "name": "stdout",
     "output_type": "stream",
     "text": [
      "[]\n"
     ]
    },
    {
     "data": {
      "text/plain": [
       "[]"
      ]
     },
     "execution_count": 16,
     "metadata": {},
     "output_type": "execute_result"
    }
   ],
   "source": [
    "import java.util.ArrayList\n",
    "import java.util.List\n",
    "import omero.gateway.Gateway\n",
    "import omero.gateway.SecurityContext\n",
    "\n",
    "import java.awt.Shape\n",
    "\n",
    "import omero.model.ImageI\n",
    "import omero.model.PolygonI\n",
    "import omero.model.RoiI\n",
    "\n",
    "import static omero.rtypes.rstring\n",
    "import static omero.rtypes.rint\n",
    "import omero.gateway.facility.BrowseFacility\n",
    "import omero.gateway.facility.DataManagerFacility\n",
    "\n",
    "// Retrieve the security context\n",
    "Gateway gateway = imageProvider.getGatewayAndCtx().getGateway()\n",
    "SecurityContext ctx = imageProvider.getGatewayAndCtx().getCtx()\n",
    "\n",
    "// Save the shapes\n",
    "List<RoiI> roisToSave = new ArrayList<RoiI>()\n",
    "for (Shape shape: result.shapeList) {\n",
    "    // can cast shape to Polygon or simply listPoints\n",
    "    String points = shape.listPoints()\n",
    "\n",
    "    // Create Polygon in OMERO\n",
    "    p = new PolygonI()\n",
    "    // Convert \"x, y; x, y\" format to \"x, y, x, y\" for OMERO\n",
    "    points = points.replace(\";\", \",\")\n",
    "    p.setPoints(rstring(points))\n",
    "    p.setTheT(rint(0))\n",
    "    p.setTheZ(rint(0))\n",
    "    p.setStrokeColor(rint(-65281))   // yellow\n",
    "\n",
    "    // Add each shape to an ROI on the Image\n",
    "    ImageI image = new ImageI(omeroImageId, false)\n",
    "    RoiI roi = new RoiI()\n",
    "    roi.setImage(image)\n",
    "    roi.addShape(p)\n",
    "    roisToSave.add(roi)\n",
    "\n",
    "}\n",
    "gateway.getUpdateService(ctx).saveAndReturnArray(roisToSave)"
   ]
  },
  {
   "cell_type": "markdown",
   "metadata": {},
   "source": [
    "## Close the connection"
   ]
  },
  {
   "cell_type": "code",
   "execution_count": null,
   "metadata": {},
   "outputs": [],
   "source": [
    "imageProvider.close()"
   ]
  },
  {
   "cell_type": "markdown",
   "metadata": {},
   "source": [
    "### License\n",
    "Copyright (C) 2019-2020 University of Dundee. All Rights Reserved.\n",
    "This program is free software; you can redistribute it and/or modify it\n",
    "under the terms of the GNU General Public License as published by the\n",
    "Free Software Foundation; either version 2 of the License, or\n",
    "(at your option) any later version.\n",
    "This program is distributed in the hope that it will be useful, but\n",
    "WITHOUT ANY WARRANTY; without even the implied warranty of MERCHANTABILITY\n",
    "or FITNESS FOR A PARTICULAR PURPOSE. See the GNU General Public License for\n",
    "more details. You should have received a copy of the GNU General\n",
    "Public License along with this program; if not, write to the\n",
    "Free Software Foundation,\n",
    "Inc., 51 Franklin Street, Fifth Floor, Boston, MA 02110-1301 USA. "
   ]
  }
 ],
 "metadata": {
  "kernelspec": {
   "display_name": "Groovy",
   "language": "groovy",
   "name": "groovy"
  },
  "language_info": {
   "codemirror_mode": "groovy",
   "file_extension": ".groovy",
   "mimetype": "",
   "name": "Groovy",
   "nbconverter_exporter": "",
   "version": "2.5.6"
  },
  "toc": {
   "base_numbering": 1,
   "nav_menu": {},
   "number_sections": false,
   "sideBar": false,
   "skip_h1_title": false,
   "title_cell": "Table of Contents",
   "title_sidebar": "Contents",
   "toc_cell": false,
   "toc_position": {},
   "toc_section_display": false,
   "toc_window_display": false
  }
 },
 "nbformat": 4,
 "nbformat_minor": 2
}
